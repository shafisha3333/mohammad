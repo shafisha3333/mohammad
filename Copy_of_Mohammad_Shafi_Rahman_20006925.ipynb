{
  "nbformat": 4,
  "nbformat_minor": 0,
  "metadata": {
    "colab": {
      "provenance": []
    },
    "kernelspec": {
      "name": "python3",
      "display_name": "Python 3"
    },
    "language_info": {
      "name": "python"
    }
  },
  "cells": [
    {
      "cell_type": "code",
      "source": [
        "class ServiceContract:\n",
        "    def __init__(self, monthlyHours, standardCharge, excessRate, discountRate):\n",
        "        if monthlyHours < 0 or standardCharge < 0 or excessRate < 0 or discountRate < 0:\n",
        "            raise ValueError(\"Negative values are not allowed.\")\n",
        "\n",
        "        self.monthlyHours = monthlyHours\n",
        "        self.standardCharge = standardCharge\n",
        "        self.excessRate = excessRate\n",
        "        self.discountRate = discountRate\n",
        "\n",
        "    def computeBill(self, hoursDelivered):\n",
        "        if hoursDelivered < 0:\n",
        "            raise ValueError(\"Negative hours delivered are not allowed.\")\n",
        "\n",
        "        deficit = max(0, self.monthlyHours - hoursDelivered)\n",
        "        excess = max(0, hoursDelivered - self.monthlyHours)\n",
        "\n",
        "        billAmount = self.standardCharge - (deficit * self.discountRate) + (excess * self.excessRate)\n",
        "\n",
        "        return max(0, billAmount)\n",
        "\n",
        "    def computeTotalDue(self, billAmount, outlay):\n",
        "        if billAmount < 0 or outlay < 0:\n",
        "            raise ValueError(\"Negative values for billAmount or outlay are not allowed.\")\n",
        "\n",
        "        vat = billAmount * 0.135\n",
        "        totalAmount = billAmount + vat + outlay\n",
        "\n",
        "        return max(0, totalAmount)\n",
        "\n",
        "sc = ServiceContract(20, 3500, 180, 75)\n",
        "print(sc.computeBill(14))\n",
        "print(sc.computeBill(24))\n",
        "print(sc.computeTotalDue(2000, 500))\n",
        "\n",
        "\n",
        "\n",
        "\n"
      ],
      "metadata": {
        "colab": {
          "base_uri": "https://localhost:8080/"
        },
        "id": "N0L5J_LbhKtG",
        "outputId": "4cd220ef-c6b4-4bf1-8e22-3dcd77e1fd88"
      },
      "execution_count": null,
      "outputs": [
        {
          "output_type": "stream",
          "name": "stdout",
          "text": [
            "3050\n",
            "4220\n",
            "2770.0\n"
          ]
        }
      ]
    }
  ]
}